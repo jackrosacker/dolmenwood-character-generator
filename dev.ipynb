{
 "cells": [
  {
   "cell_type": "code",
   "execution_count": 1,
   "metadata": {},
   "outputs": [],
   "source": [
    "from character import Character, Die"
   ]
  },
  {
   "cell_type": "code",
   "execution_count": 2,
   "metadata": {},
   "outputs": [
    {
     "name": "stdout",
     "output_type": "stream",
     "text": [
      "Character attributes:\n",
      "         name: None\n",
      "         kindred: None\n",
      "         ability scores: {'str': 0, 'int': 0, 'wis': 0, 'dex': 0, 'con': 0, 'cha': 0}\n",
      "         ability mods: {'str': 0, 'int': 0, 'wis': 0, 'dex': 0, 'con': 0, 'cha': 0}\n",
      "         class: None\n",
      "         max hp: None\n",
      "         current hp: None\n",
      "         status: Alive\n"
     ]
    }
   ],
   "source": [
    "new_character = Character()\n",
    "print(new_character)"
   ]
  },
  {
   "cell_type": "code",
   "execution_count": 3,
   "metadata": {},
   "outputs": [
    {
     "name": "stdout",
     "output_type": "stream",
     "text": [
      "Rolling 3d6...\n",
      "  roll results: [6, 4, 4]\n",
      "  roll total: 14\n",
      "Rolling 3d6...\n",
      "  roll results: [2, 1, 2]\n",
      "  roll total: 5\n",
      "Rolling 3d6...\n",
      "  roll results: [3, 6, 5]\n",
      "  roll total: 14\n",
      "Rolling 3d6...\n",
      "  roll results: [4, 3, 3]\n",
      "  roll total: 10\n",
      "Rolling 3d6...\n",
      "  roll results: [3, 6, 6]\n",
      "  roll total: 15\n",
      "Rolling 3d6...\n",
      "  roll results: [1, 5, 4]\n",
      "  roll total: 10\n"
     ]
    }
   ],
   "source": [
    "new_character.generate_ability_scores()"
   ]
  },
  {
   "cell_type": "code",
   "execution_count": 4,
   "metadata": {},
   "outputs": [
    {
     "name": "stdout",
     "output_type": "stream",
     "text": [
      "Character attributes:\n",
      "         name: None\n",
      "         kindred: None\n",
      "         ability scores: {'str': 14, 'int': 5, 'wis': 14, 'dex': 10, 'con': 15, 'cha': 10}\n",
      "         ability mods: {'str': 0, 'int': 0, 'wis': 0, 'dex': 0, 'con': 0, 'cha': 0}\n",
      "         class: None\n",
      "         max hp: None\n",
      "         current hp: None\n",
      "         status: Alive\n"
     ]
    }
   ],
   "source": [
    "print(new_character)"
   ]
  },
  {
   "cell_type": "code",
   "execution_count": 5,
   "metadata": {},
   "outputs": [
    {
     "data": {
      "text/plain": [
       "{'str': 14, 'int': 5, 'wis': 14, 'dex': 10, 'con': 15, 'cha': 10}"
      ]
     },
     "execution_count": 5,
     "metadata": {},
     "output_type": "execute_result"
    }
   ],
   "source": [
    "new_character.ability_scores"
   ]
  },
  {
   "cell_type": "code",
   "execution_count": 24,
   "metadata": {},
   "outputs": [
    {
     "data": {
      "text/html": [
       "<style type=\"text/css\">\n",
       "#T_1aaeb th {\n",
       "  font-size: 11px;\n",
       "  text-align: center;\n",
       "  font-weight: bold;\n",
       "  color: #6d6d6d;\n",
       "  background-color: #f7f7f9;\n",
       "}\n",
       "#T_1aaeb td {\n",
       "  font-size: 11px;\n",
       "}\n",
       "</style>\n",
       "<table id=\"T_1aaeb\">\n",
       "  <thead>\n",
       "    <tr>\n",
       "      <th class=\"blank level0\" >&nbsp;</th>\n",
       "      <th id=\"T_1aaeb_level0_col0\" class=\"col_heading level0 col0\" >0</th>\n",
       "    </tr>\n",
       "  </thead>\n",
       "  <tbody>\n",
       "    <tr>\n",
       "      <th id=\"T_1aaeb_level0_row0\" class=\"row_heading level0 row0\" >Strength</th>\n",
       "      <td id=\"T_1aaeb_row0_col0\" class=\"data row0 col0\" >14</td>\n",
       "    </tr>\n",
       "    <tr>\n",
       "      <th id=\"T_1aaeb_level0_row1\" class=\"row_heading level0 row1\" >Intelligence</th>\n",
       "      <td id=\"T_1aaeb_row1_col0\" class=\"data row1 col0\" >5</td>\n",
       "    </tr>\n",
       "    <tr>\n",
       "      <th id=\"T_1aaeb_level0_row2\" class=\"row_heading level0 row2\" >Wisdom</th>\n",
       "      <td id=\"T_1aaeb_row2_col0\" class=\"data row2 col0\" >14</td>\n",
       "    </tr>\n",
       "    <tr>\n",
       "      <th id=\"T_1aaeb_level0_row3\" class=\"row_heading level0 row3\" >Dexterity</th>\n",
       "      <td id=\"T_1aaeb_row3_col0\" class=\"data row3 col0\" >10</td>\n",
       "    </tr>\n",
       "    <tr>\n",
       "      <th id=\"T_1aaeb_level0_row4\" class=\"row_heading level0 row4\" >Constitution</th>\n",
       "      <td id=\"T_1aaeb_row4_col0\" class=\"data row4 col0\" >15</td>\n",
       "    </tr>\n",
       "    <tr>\n",
       "      <th id=\"T_1aaeb_level0_row5\" class=\"row_heading level0 row5\" >Charisma</th>\n",
       "      <td id=\"T_1aaeb_row5_col0\" class=\"data row5 col0\" >10</td>\n",
       "    </tr>\n",
       "  </tbody>\n",
       "</table>\n"
      ],
      "text/plain": [
       "<pandas.io.formats.style.Styler at 0x11b089d10>"
      ]
     },
     "execution_count": 24,
     "metadata": {},
     "output_type": "execute_result"
    }
   ],
   "source": [
    "import pandas as pd\n",
    "\n",
    "replacement_dict = {\"str\": \"Strength\",\n",
    "            \"int\": \"Intelligence\",\n",
    "            \"wis\": \"Wisdom\",\n",
    "            \"dex\": \"Dexterity\",\n",
    "            \"con\": \"Constitution\",\n",
    "            \"cha\": \"Charisma\"}\n",
    "\n",
    "th_props = [\n",
    "  ('font-size', '11px'),\n",
    "  ('text-align', 'center'),\n",
    "  ('font-weight', 'bold'),\n",
    "  ('color', '#6d6d6d'),\n",
    "  ('background-color', '#f7f7f9')\n",
    "  ]\n",
    "\n",
    "# Set CSS properties for td elements in dataframe\n",
    "td_props = [\n",
    "  ('font-size', '11px')\n",
    "  ]\n",
    "\n",
    "# Set table styles\n",
    "styles = [\n",
    "  dict(selector=\"th\", props=th_props),\n",
    "  dict(selector=\"td\", props=td_props)\n",
    "  ]\n",
    "\n",
    "#df = pd.DataFrame.from_dict(new_character.ability_scores, orient=\"index\").reset_index().replace(replacement_dict).style.hide(axis=\"columns\").hide()\n",
    "df = pd.DataFrame.from_dict(new_character.ability_scores, orient=\"index\").rename(index=replacement_dict)\n",
    "df.style.hide(axis=\"columns\", names=[\"0\"]).set_table_styles(styles)"
   ]
  }
 ],
 "metadata": {
  "kernelspec": {
   "display_name": "env",
   "language": "python",
   "name": "python3"
  },
  "language_info": {
   "codemirror_mode": {
    "name": "ipython",
    "version": 3
   },
   "file_extension": ".py",
   "mimetype": "text/x-python",
   "name": "python",
   "nbconvert_exporter": "python",
   "pygments_lexer": "ipython3",
   "version": "3.11.5"
  }
 },
 "nbformat": 4,
 "nbformat_minor": 2
}
