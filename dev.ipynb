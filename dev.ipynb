{
 "cells": [
  {
   "cell_type": "code",
   "execution_count": 1,
   "metadata": {},
   "outputs": [],
   "source": [
    "from character import Character, Die"
   ]
  },
  {
   "cell_type": "code",
   "execution_count": 3,
   "metadata": {},
   "outputs": [
    {
     "name": "stdout",
     "output_type": "stream",
     "text": [
      "Character attributes:\n",
      "         name: None\n",
      "         kindred: None\n",
      "         ability scores: {'str': 0, 'int': 0, 'wis': 0, 'dex': 0, 'con': 0, 'cha': 0}\n",
      "         ability mods: {'str': 0, 'int': 0, 'wis': 0, 'dex': 0, 'con': 0, 'cha': 0}\n",
      "         class: None\n",
      "         max hp: None\n",
      "         current hp: None\n",
      "         status: Alive\n"
     ]
    }
   ],
   "source": [
    "new_character = Character()\n",
    "print(new_character)"
   ]
  },
  {
   "cell_type": "code",
   "execution_count": 4,
   "metadata": {},
   "outputs": [
    {
     "name": "stdout",
     "output_type": "stream",
     "text": [
      "Rolling 3d6...\n",
      "  roll results: [6, 1, 6]\n",
      "  roll total: 13\n",
      "Rolling 3d6...\n",
      "  roll results: [4, 3, 4]\n",
      "  roll total: 11\n",
      "Rolling 3d6...\n",
      "  roll results: [2, 4, 2]\n",
      "  roll total: 8\n",
      "Rolling 3d6...\n",
      "  roll results: [1, 5, 1]\n",
      "  roll total: 7\n",
      "Rolling 3d6...\n",
      "  roll results: [6, 5, 3]\n",
      "  roll total: 14\n",
      "Rolling 3d6...\n",
      "  roll results: [6, 3, 3]\n",
      "  roll total: 12\n"
     ]
    }
   ],
   "source": [
    "new_character.generate_ability_scores()"
   ]
  },
  {
   "cell_type": "code",
   "execution_count": 5,
   "metadata": {},
   "outputs": [
    {
     "name": "stdout",
     "output_type": "stream",
     "text": [
      "Character attributes:\n",
      "         name: None\n",
      "         kindred: None\n",
      "         ability scores: {'str': 13, 'int': 11, 'wis': 8, 'dex': 7, 'con': 14, 'cha': 12}\n",
      "         ability mods: {'str': 0, 'int': 0, 'wis': 0, 'dex': 0, 'con': 0, 'cha': 0}\n",
      "         class: None\n",
      "         max hp: None\n",
      "         current hp: None\n",
      "         status: Alive\n"
     ]
    }
   ],
   "source": [
    "print(new_character)"
   ]
  },
  {
   "cell_type": "code",
   "execution_count": null,
   "metadata": {},
   "outputs": [],
   "source": []
  }
 ],
 "metadata": {
  "kernelspec": {
   "display_name": "env",
   "language": "python",
   "name": "python3"
  },
  "language_info": {
   "codemirror_mode": {
    "name": "ipython",
    "version": 3
   },
   "file_extension": ".py",
   "mimetype": "text/x-python",
   "name": "python",
   "nbconvert_exporter": "python",
   "pygments_lexer": "ipython3",
   "version": "3.11.5"
  }
 },
 "nbformat": 4,
 "nbformat_minor": 2
}
